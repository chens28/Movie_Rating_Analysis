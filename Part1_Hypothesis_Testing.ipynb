{
 "cells": [
  {
   "cell_type": "markdown",
   "id": "b46cfbfb",
   "metadata": {},
   "source": [
    "# Movie Rating Data Analysis \n",
    "### Part 1: Hypothesis Testing\n",
    "In this first half, 11 questions are invested by using the appropriate hypothesis tests. To cut down on false positives, the per-test significance level 𝛼 is set to 0.005 (as per Benjamin et al., 2018)."
   ]
  },
  {
   "cell_type": "code",
   "execution_count": 1,
   "id": "e523dc19",
   "metadata": {},
   "outputs": [],
   "source": [
    "import numpy as np\n",
    "from scipy import stats\n",
    "import matplotlib.pyplot as plt\n",
    "import pandas as pd"
   ]
  },
  {
   "cell_type": "code",
   "execution_count": 3,
   "id": "8b3fb6d2",
   "metadata": {},
   "outputs": [
    {
     "data": {
      "text/html": [
       "<div>\n",
       "<style scoped>\n",
       "    .dataframe tbody tr th:only-of-type {\n",
       "        vertical-align: middle;\n",
       "    }\n",
       "\n",
       "    .dataframe tbody tr th {\n",
       "        vertical-align: top;\n",
       "    }\n",
       "\n",
       "    .dataframe thead th {\n",
       "        text-align: right;\n",
       "    }\n",
       "</style>\n",
       "<table border=\"1\" class=\"dataframe\">\n",
       "  <thead>\n",
       "    <tr style=\"text-align: right;\">\n",
       "      <th></th>\n",
       "      <th>The Life of David Gale (2003)</th>\n",
       "      <th>Wing Commander (1999)</th>\n",
       "      <th>Django Unchained (2012)</th>\n",
       "      <th>Alien (1979)</th>\n",
       "      <th>Indiana Jones and the Last Crusade (1989)</th>\n",
       "      <th>Snatch (2000)</th>\n",
       "      <th>Rambo: First Blood Part II (1985)</th>\n",
       "      <th>Fargo (1996)</th>\n",
       "      <th>Let the Right One In (2008)</th>\n",
       "      <th>Black Swan (2010)</th>\n",
       "      <th>...</th>\n",
       "      <th>When watching a movie I cheer or shout or talk or curse at the screen</th>\n",
       "      <th>When watching a movie I feel like the things on the screen are happening to me</th>\n",
       "      <th>As a movie unfolds I start to have problems keeping track of events that happened earlier</th>\n",
       "      <th>The emotions on the screen \"rub off\" on me - for instance if something sad is happening I get sad or if something frightening is happening I get scared</th>\n",
       "      <th>When watching a movie I get completely immersed in the alternative reality of the film</th>\n",
       "      <th>Movies change my position on social economic or political issues</th>\n",
       "      <th>When watching movies things get so intense that I have to stop watching</th>\n",
       "      <th>Gender identity (1 = female; 2 = male; 3 = self-described)</th>\n",
       "      <th>Are you an only child? (1: Yes; 0: No; -1: Did not respond)</th>\n",
       "      <th>Movies are best enjoyed alone (1: Yes; 0: No; -1: Did not respond)</th>\n",
       "    </tr>\n",
       "  </thead>\n",
       "  <tbody>\n",
       "    <tr>\n",
       "      <th>0</th>\n",
       "      <td>NaN</td>\n",
       "      <td>NaN</td>\n",
       "      <td>4.0</td>\n",
       "      <td>NaN</td>\n",
       "      <td>3.0</td>\n",
       "      <td>NaN</td>\n",
       "      <td>NaN</td>\n",
       "      <td>NaN</td>\n",
       "      <td>NaN</td>\n",
       "      <td>NaN</td>\n",
       "      <td>...</td>\n",
       "      <td>1.0</td>\n",
       "      <td>6.0</td>\n",
       "      <td>2.0</td>\n",
       "      <td>5.0</td>\n",
       "      <td>5.0</td>\n",
       "      <td>5.0</td>\n",
       "      <td>1.0</td>\n",
       "      <td>1.0</td>\n",
       "      <td>0</td>\n",
       "      <td>1</td>\n",
       "    </tr>\n",
       "    <tr>\n",
       "      <th>1</th>\n",
       "      <td>NaN</td>\n",
       "      <td>NaN</td>\n",
       "      <td>1.5</td>\n",
       "      <td>NaN</td>\n",
       "      <td>NaN</td>\n",
       "      <td>NaN</td>\n",
       "      <td>NaN</td>\n",
       "      <td>NaN</td>\n",
       "      <td>NaN</td>\n",
       "      <td>NaN</td>\n",
       "      <td>...</td>\n",
       "      <td>3.0</td>\n",
       "      <td>1.0</td>\n",
       "      <td>1.0</td>\n",
       "      <td>6.0</td>\n",
       "      <td>5.0</td>\n",
       "      <td>3.0</td>\n",
       "      <td>2.0</td>\n",
       "      <td>1.0</td>\n",
       "      <td>0</td>\n",
       "      <td>0</td>\n",
       "    </tr>\n",
       "    <tr>\n",
       "      <th>2</th>\n",
       "      <td>NaN</td>\n",
       "      <td>NaN</td>\n",
       "      <td>NaN</td>\n",
       "      <td>NaN</td>\n",
       "      <td>NaN</td>\n",
       "      <td>NaN</td>\n",
       "      <td>NaN</td>\n",
       "      <td>NaN</td>\n",
       "      <td>NaN</td>\n",
       "      <td>NaN</td>\n",
       "      <td>...</td>\n",
       "      <td>5.0</td>\n",
       "      <td>4.0</td>\n",
       "      <td>3.0</td>\n",
       "      <td>5.0</td>\n",
       "      <td>5.0</td>\n",
       "      <td>4.0</td>\n",
       "      <td>4.0</td>\n",
       "      <td>1.0</td>\n",
       "      <td>1</td>\n",
       "      <td>0</td>\n",
       "    </tr>\n",
       "    <tr>\n",
       "      <th>3</th>\n",
       "      <td>NaN</td>\n",
       "      <td>NaN</td>\n",
       "      <td>2.0</td>\n",
       "      <td>NaN</td>\n",
       "      <td>3.0</td>\n",
       "      <td>NaN</td>\n",
       "      <td>NaN</td>\n",
       "      <td>NaN</td>\n",
       "      <td>NaN</td>\n",
       "      <td>4.0</td>\n",
       "      <td>...</td>\n",
       "      <td>3.0</td>\n",
       "      <td>1.0</td>\n",
       "      <td>1.0</td>\n",
       "      <td>4.0</td>\n",
       "      <td>5.0</td>\n",
       "      <td>3.0</td>\n",
       "      <td>1.0</td>\n",
       "      <td>1.0</td>\n",
       "      <td>0</td>\n",
       "      <td>1</td>\n",
       "    </tr>\n",
       "    <tr>\n",
       "      <th>4</th>\n",
       "      <td>NaN</td>\n",
       "      <td>NaN</td>\n",
       "      <td>3.5</td>\n",
       "      <td>NaN</td>\n",
       "      <td>0.5</td>\n",
       "      <td>NaN</td>\n",
       "      <td>0.5</td>\n",
       "      <td>1.0</td>\n",
       "      <td>NaN</td>\n",
       "      <td>0.0</td>\n",
       "      <td>...</td>\n",
       "      <td>2.0</td>\n",
       "      <td>3.0</td>\n",
       "      <td>2.0</td>\n",
       "      <td>5.0</td>\n",
       "      <td>6.0</td>\n",
       "      <td>4.0</td>\n",
       "      <td>4.0</td>\n",
       "      <td>1.0</td>\n",
       "      <td>1</td>\n",
       "      <td>1</td>\n",
       "    </tr>\n",
       "  </tbody>\n",
       "</table>\n",
       "<p>5 rows × 477 columns</p>\n",
       "</div>"
      ],
      "text/plain": [
       "   The Life of David Gale (2003)  Wing Commander (1999)  \\\n",
       "0                            NaN                    NaN   \n",
       "1                            NaN                    NaN   \n",
       "2                            NaN                    NaN   \n",
       "3                            NaN                    NaN   \n",
       "4                            NaN                    NaN   \n",
       "\n",
       "   Django Unchained (2012)  Alien (1979)  \\\n",
       "0                      4.0           NaN   \n",
       "1                      1.5           NaN   \n",
       "2                      NaN           NaN   \n",
       "3                      2.0           NaN   \n",
       "4                      3.5           NaN   \n",
       "\n",
       "   Indiana Jones and the Last Crusade (1989)  Snatch (2000)  \\\n",
       "0                                        3.0            NaN   \n",
       "1                                        NaN            NaN   \n",
       "2                                        NaN            NaN   \n",
       "3                                        3.0            NaN   \n",
       "4                                        0.5            NaN   \n",
       "\n",
       "   Rambo: First Blood Part II (1985)  Fargo (1996)  \\\n",
       "0                                NaN           NaN   \n",
       "1                                NaN           NaN   \n",
       "2                                NaN           NaN   \n",
       "3                                NaN           NaN   \n",
       "4                                0.5           1.0   \n",
       "\n",
       "   Let the Right One In (2008)  Black Swan (2010)  ...  \\\n",
       "0                          NaN                NaN  ...   \n",
       "1                          NaN                NaN  ...   \n",
       "2                          NaN                NaN  ...   \n",
       "3                          NaN                4.0  ...   \n",
       "4                          NaN                0.0  ...   \n",
       "\n",
       "   When watching a movie I cheer or shout or talk or curse at the screen  \\\n",
       "0                                                1.0                       \n",
       "1                                                3.0                       \n",
       "2                                                5.0                       \n",
       "3                                                3.0                       \n",
       "4                                                2.0                       \n",
       "\n",
       "   When watching a movie I feel like the things on the screen are happening to me  \\\n",
       "0                                                6.0                                \n",
       "1                                                1.0                                \n",
       "2                                                4.0                                \n",
       "3                                                1.0                                \n",
       "4                                                3.0                                \n",
       "\n",
       "   As a movie unfolds I start to have problems keeping track of events that happened earlier  \\\n",
       "0                                                2.0                                           \n",
       "1                                                1.0                                           \n",
       "2                                                3.0                                           \n",
       "3                                                1.0                                           \n",
       "4                                                2.0                                           \n",
       "\n",
       "   The emotions on the screen \"rub off\" on me - for instance if something sad is happening I get sad or if something frightening is happening I get scared  \\\n",
       "0                                                5.0                                                                                                         \n",
       "1                                                6.0                                                                                                         \n",
       "2                                                5.0                                                                                                         \n",
       "3                                                4.0                                                                                                         \n",
       "4                                                5.0                                                                                                         \n",
       "\n",
       "   When watching a movie I get completely immersed in the alternative reality of the film  \\\n",
       "0                                                5.0                                        \n",
       "1                                                5.0                                        \n",
       "2                                                5.0                                        \n",
       "3                                                5.0                                        \n",
       "4                                                6.0                                        \n",
       "\n",
       "   Movies change my position on social economic or political issues  \\\n",
       "0                                                5.0                  \n",
       "1                                                3.0                  \n",
       "2                                                4.0                  \n",
       "3                                                3.0                  \n",
       "4                                                4.0                  \n",
       "\n",
       "   When watching movies things get so intense that I have to stop watching  \\\n",
       "0                                                1.0                         \n",
       "1                                                2.0                         \n",
       "2                                                4.0                         \n",
       "3                                                1.0                         \n",
       "4                                                4.0                         \n",
       "\n",
       "   Gender identity (1 = female; 2 = male; 3 = self-described)  \\\n",
       "0                                                1.0            \n",
       "1                                                1.0            \n",
       "2                                                1.0            \n",
       "3                                                1.0            \n",
       "4                                                1.0            \n",
       "\n",
       "   Are you an only child? (1: Yes; 0: No; -1: Did not respond)  \\\n",
       "0                                                  0             \n",
       "1                                                  0             \n",
       "2                                                  1             \n",
       "3                                                  0             \n",
       "4                                                  1             \n",
       "\n",
       "   Movies are best enjoyed alone (1: Yes; 0: No; -1: Did not respond)  \n",
       "0                                                  1                   \n",
       "1                                                  0                   \n",
       "2                                                  0                   \n",
       "3                                                  1                   \n",
       "4                                                  1                   \n",
       "\n",
       "[5 rows x 477 columns]"
      ]
     },
     "execution_count": 3,
     "metadata": {},
     "output_type": "execute_result"
    }
   ],
   "source": [
    "# Load data\n",
    "movies = pd.read_csv('movieReplicationSet.csv')\n",
    "movies.head()"
   ]
  },
  {
   "cell_type": "code",
   "execution_count": 18,
   "id": "ac1a3f3f",
   "metadata": {},
   "outputs": [],
   "source": [
    "# convert all data to numeric\n",
    "movies = movies.apply(pd.to_numeric, errors='coerce')"
   ]
  },
  {
   "cell_type": "markdown",
   "id": "d649b350",
   "metadata": {},
   "source": [
    "#### 1)  Are movies that are more popular (operationalized as having more ratings) rated higher than movies that are less popular? "
   ]
  },
  {
   "cell_type": "code",
   "execution_count": 32,
   "id": "e1a7704a",
   "metadata": {},
   "outputs": [
    {
     "name": "stdout",
     "output_type": "stream",
     "text": [
      "197.5\n"
     ]
    }
   ],
   "source": [
    "# subset only movie ratings\n",
    "movies_ratings = movies.iloc[:,:400]\n",
    "# median-split of popularity to determine high vs. low popularity movies\n",
    "median_1 = movies_ratings.count().median()\n",
    "print(median_1)\n",
    "low_pop = movies_ratings.loc[:, movies_ratings.count() < median_1]\n",
    "high_pop = movies_ratings.loc[:, movies_ratings.count() >= median_1]"
   ]
  },
  {
   "cell_type": "code",
   "execution_count": 44,
   "id": "0204bdd6",
   "metadata": {},
   "outputs": [
    {
     "name": "stdout",
     "output_type": "stream",
     "text": [
      "(1097, 200)\n"
     ]
    },
    {
     "data": {
      "text/plain": [
       "2.5"
      ]
     },
     "execution_count": 44,
     "metadata": {},
     "output_type": "execute_result"
    }
   ],
   "source": [
    "# vectorize lower half\n",
    "low_pop_arr = low_pop.values.flatten()\n",
    "# remove missing values\n",
    "low_pop_arr = low_pop_arr[np.isfinite(low_pop_arr)]\n",
    "print(low_pop.shape)\n",
    "np.median(low_pop_arr)"
   ]
  },
  {
   "cell_type": "code",
   "execution_count": 45,
   "id": "0e49fb87",
   "metadata": {},
   "outputs": [
    {
     "name": "stdout",
     "output_type": "stream",
     "text": [
      "(1097, 200)\n"
     ]
    },
    {
     "data": {
      "text/plain": [
       "3.0"
      ]
     },
     "execution_count": 45,
     "metadata": {},
     "output_type": "execute_result"
    }
   ],
   "source": [
    "# vectorize higher half\n",
    "high_pop_arr = high_pop.values.flatten()\n",
    "# remove missing values\n",
    "high_pop_arr = high_pop_arr[np.isfinite(high_pop_arr)]\n",
    "print(high_pop.shape)\n",
    "np.median(high_pop_arr)"
   ]
  },
  {
   "cell_type": "code",
   "execution_count": 46,
   "id": "db17591f",
   "metadata": {},
   "outputs": [
    {
     "name": "stdout",
     "output_type": "stream",
     "text": [
      "741899855.5 0.0\n"
     ]
    },
    {
     "data": {
      "text/plain": [
       "True"
      ]
     },
     "execution_count": 46,
     "metadata": {},
     "output_type": "execute_result"
    }
   ],
   "source": [
    "# U test\n",
    "u1, pu1 = stats.mannwhitneyu(low_pop_arr, high_pop_arr, alternative = 'less')\n",
    "print(u1, pu1)\n",
    "pu1<0.005"
   ]
  },
  {
   "cell_type": "markdown",
   "id": "9e1b601e",
   "metadata": {},
   "source": [
    "Since p-value is less than our alpha, 0.005, we reject the null hypothesis to conclude\n",
    "that more popular movies are rated higher than unpopular movies. "
   ]
  },
  {
   "cell_type": "markdown",
   "id": "3a35ccb6",
   "metadata": {},
   "source": [
    "#### 2) Are movies that are newer rated differently than movies that are older?"
   ]
  },
  {
   "cell_type": "code",
   "execution_count": 57,
   "id": "a1468876",
   "metadata": {},
   "outputs": [],
   "source": [
    "# median-split of year of release to contrast movies in terms of whether they are old or new\n",
    "movies_year = movies_ratings.columns.str[-5:-1].values.astype(int)\n",
    "median_2 = np.median(movies_year)\n",
    "\n",
    "old = movies_ratings.loc[:,movies_ratings.columns.str[-5:-1].values.astype(int) < median_2]\n",
    "new = movies_ratings.loc[:,movies_ratings.columns.str[-5:-1].values.astype(int) >= median_2]"
   ]
  },
  {
   "cell_type": "code",
   "execution_count": 58,
   "id": "2bf4a887",
   "metadata": {},
   "outputs": [
    {
     "name": "stdout",
     "output_type": "stream",
     "text": [
      "(1097, 197)\n"
     ]
    },
    {
     "data": {
      "text/plain": [
       "3.0"
      ]
     },
     "execution_count": 58,
     "metadata": {},
     "output_type": "execute_result"
    }
   ],
   "source": [
    "# vectorize lower half\n",
    "old_arr = old.values.flatten()\n",
    "# remove missing values\n",
    "old_arr = old_arr[np.isfinite(old_arr)]\n",
    "print(old.shape)\n",
    "np.median(old_arr)"
   ]
  },
  {
   "cell_type": "code",
   "execution_count": 59,
   "id": "f6528402",
   "metadata": {},
   "outputs": [
    {
     "name": "stdout",
     "output_type": "stream",
     "text": [
      "(1097, 203)\n"
     ]
    },
    {
     "data": {
      "text/plain": [
       "3.0"
      ]
     },
     "execution_count": 59,
     "metadata": {},
     "output_type": "execute_result"
    }
   ],
   "source": [
    "# vectorize higher half\n",
    "new_arr = new.values.flatten()\n",
    "# remove missing values\n",
    "new_arr = new_arr[np.isfinite(new_arr)]\n",
    "print(new.shape)\n",
    "np.median(new_arr)"
   ]
  },
  {
   "cell_type": "code",
   "execution_count": 62,
   "id": "9038bbc2",
   "metadata": {},
   "outputs": [
    {
     "name": "stdout",
     "output_type": "stream",
     "text": [
      "1502583861.0 1.2849216001533932e-06\n"
     ]
    },
    {
     "data": {
      "text/plain": [
       "True"
      ]
     },
     "execution_count": 62,
     "metadata": {},
     "output_type": "execute_result"
    }
   ],
   "source": [
    "# U test\n",
    "u2, pu2 = stats.mannwhitneyu(old_arr, new_arr, alternative = 'two-sided')\n",
    "print(u2, pu2)\n",
    "pu2<0.005"
   ]
  },
  {
   "cell_type": "markdown",
   "id": "780f9655",
   "metadata": {},
   "source": [
    "Since p-value is less than our alpha, 0.005, we reject the null hypothesis to conclude\n",
    "that newer movies are rated differently than older movies. "
   ]
  },
  {
   "cell_type": "markdown",
   "id": "cbe53520",
   "metadata": {},
   "source": [
    "#### 3) Is enjoyment of ‘Shrek (2001)’ gendered, i.e. do male and female viewers rate it differently?"
   ]
  },
  {
   "cell_type": "code",
   "execution_count": 64,
   "id": "aa4094d0",
   "metadata": {},
   "outputs": [],
   "source": [
    "# Subset the movie and create a male group and a female group\n",
    "Shrek = movies[['Shrek (2001)', 'Gender identity (1 = female; 2 = male; 3 = self-described)']]\n",
    "female = Shrek[Shrek['Gender identity (1 = female; 2 = male; 3 = self-described)'] == 1]['Shrek (2001)']\n",
    "male = Shrek[Shrek['Gender identity (1 = female; 2 = male; 3 = self-described)'] == 2]['Shrek (2001)']"
   ]
  },
  {
   "cell_type": "code",
   "execution_count": 65,
   "id": "57bc19f4",
   "metadata": {},
   "outputs": [
    {
     "data": {
      "text/plain": [
       "3.5"
      ]
     },
     "execution_count": 65,
     "metadata": {},
     "output_type": "execute_result"
    }
   ],
   "source": [
    "# female half\n",
    "# remove missing values\n",
    "female_arr = female.values[np.isfinite(female)]\n",
    "np.median(female_arr)"
   ]
  },
  {
   "cell_type": "code",
   "execution_count": 66,
   "id": "02f82dfe",
   "metadata": {},
   "outputs": [
    {
     "data": {
      "text/plain": [
       "3.0"
      ]
     },
     "execution_count": 66,
     "metadata": {},
     "output_type": "execute_result"
    }
   ],
   "source": [
    "# male half\n",
    "# remove missing values\n",
    "male_arr = male.values[np.isfinite(male)]\n",
    "np.median(male_arr)"
   ]
  },
  {
   "cell_type": "code",
   "execution_count": 67,
   "id": "7eca2cd8",
   "metadata": {},
   "outputs": [
    {
     "name": "stdout",
     "output_type": "stream",
     "text": [
      "96830.5 0.050536625925559006\n"
     ]
    },
    {
     "data": {
      "text/plain": [
       "False"
      ]
     },
     "execution_count": 67,
     "metadata": {},
     "output_type": "execute_result"
    }
   ],
   "source": [
    "# U test\n",
    "u3, pu3 = stats.mannwhitneyu(female_arr, male_arr, alternative = 'two-sided')\n",
    "print(u3, pu3)\n",
    "pu3<0.005"
   ]
  },
  {
   "cell_type": "markdown",
   "id": "9307c199",
   "metadata": {},
   "source": [
    "Since p-value is not less than our alpha, 0.005, we fail to reject the null hypothesis and conclude\n",
    "that male and female viewers do not rate ‘Shrek (2001)’ differently. "
   ]
  },
  {
   "cell_type": "markdown",
   "id": "ea5afd9e",
   "metadata": {},
   "source": [
    "#### 4) What proportion of movies are rated differently by male and female viewers?"
   ]
  },
  {
   "cell_type": "code",
   "execution_count": 71,
   "id": "4b23db4e",
   "metadata": {},
   "outputs": [],
   "source": [
    "# holdder list\n",
    "u_stats4 = []\n",
    "\n",
    "# iterated through all 400 movies\n",
    "# in each iteration, do a male female split and record if the U test is significant\n",
    "for i in range(400):\n",
    "    movie = movies.iloc[:,[i, 474]]\n",
    "    movie_title = movie.columns[0]\n",
    "    gender_title = movie.columns[1]\n",
    "    \n",
    "    female = movie[movie[gender_title] == 1][movie_title]\n",
    "    female_arr = female.values[np.isfinite(female)]\n",
    "    male = movie[movie[gender_title] == 2][movie_title]\n",
    "    male_arr = male.values[np.isfinite(male)]\n",
    "    \n",
    "    u4, pu4 = stats.mannwhitneyu(female_arr, male_arr, alternative = 'two-sided')\n",
    "    if pu4<0.005:\n",
    "        u_stats4.append(1)\n",
    "    else:\n",
    "        u_stats4.append(0)"
   ]
  },
  {
   "cell_type": "code",
   "execution_count": 72,
   "id": "01722ce5",
   "metadata": {},
   "outputs": [
    {
     "data": {
      "text/plain": [
       "0.125"
      ]
     },
     "execution_count": 72,
     "metadata": {},
     "output_type": "execute_result"
    }
   ],
   "source": [
    "# calculate proportion of movies showing a differnce\n",
    "np.sum(u_stats4)/len(u_stats4)"
   ]
  },
  {
   "cell_type": "markdown",
   "id": "23bc1cea",
   "metadata": {},
   "source": [
    "12.5% movies rated differently by male and female viewers."
   ]
  },
  {
   "cell_type": "markdown",
   "id": "819b25cf",
   "metadata": {},
   "source": [
    "#### 5) Do people who are only children enjoy ‘The Lion King (1994)’ more than people with siblings?"
   ]
  },
  {
   "cell_type": "code",
   "execution_count": 122,
   "id": "9d70d11d",
   "metadata": {},
   "outputs": [],
   "source": [
    "# Subset the movie and create a only-child group and a with-siblings group\n",
    "Lion_King = movies[['The Lion King (1994)', 'Are you an only child? (1: Yes; 0: No; -1: Did not respond)']]\n",
    "only_child = Lion_King[Lion_King['Are you an only child? (1: Yes; 0: No; -1: Did not respond)'] == 1]['The Lion King (1994)']\n",
    "with_siblings = Lion_King[Lion_King['Are you an only child? (1: Yes; 0: No; -1: Did not respond)'] == 0]['The Lion King (1994)']"
   ]
  },
  {
   "cell_type": "code",
   "execution_count": 123,
   "id": "1e76f8f3",
   "metadata": {},
   "outputs": [
    {
     "data": {
      "text/plain": [
       "3.5"
      ]
     },
     "execution_count": 123,
     "metadata": {},
     "output_type": "execute_result"
    }
   ],
   "source": [
    "# only-child half\n",
    "# remove missing values\n",
    "only_child_arr = only_child.values[np.isfinite(only_child)]\n",
    "np.median(only_child_arr)"
   ]
  },
  {
   "cell_type": "code",
   "execution_count": 124,
   "id": "d3e4551c",
   "metadata": {},
   "outputs": [
    {
     "data": {
      "text/plain": [
       "4.0"
      ]
     },
     "execution_count": 124,
     "metadata": {},
     "output_type": "execute_result"
    }
   ],
   "source": [
    "# with-siblings half\n",
    "# remove missing values\n",
    "with_siblings_arr = with_siblings.values[np.isfinite(with_siblings)]\n",
    "np.median(with_siblings_arr)"
   ]
  },
  {
   "cell_type": "code",
   "execution_count": 125,
   "id": "fa4e80d9",
   "metadata": {},
   "outputs": [
    {
     "name": "stdout",
     "output_type": "stream",
     "text": [
      "52929.0 0.978419092554931\n"
     ]
    },
    {
     "data": {
      "text/plain": [
       "False"
      ]
     },
     "execution_count": 125,
     "metadata": {},
     "output_type": "execute_result"
    }
   ],
   "source": [
    "# U test\n",
    "u5, pu5 = stats.mannwhitneyu(only_child_arr, with_siblings_arr, alternative = 'greater')\n",
    "print(u5, pu5)\n",
    "pu5<0.005"
   ]
  },
  {
   "cell_type": "markdown",
   "id": "37474f28",
   "metadata": {},
   "source": [
    "Since p-value is not less than our alpha, 0.005, we fail to reject the null hypothesis and conclude\n",
    "that people who are only children do not rate ‘The Lion King (1994)’ more than people with siblings. "
   ]
  },
  {
   "cell_type": "markdown",
   "id": "ef87c892",
   "metadata": {},
   "source": [
    "#### 6) What proportion of movies exhibit an “only child effect”, i.e. are rated different by viewers with siblings vs. those without?"
   ]
  },
  {
   "cell_type": "code",
   "execution_count": 130,
   "id": "e8566087",
   "metadata": {},
   "outputs": [],
   "source": [
    "# holdder list\n",
    "u_stats6 = []\n",
    "\n",
    "# iterated through all 400 movies\n",
    "# in each iteration, do a whether only-child or not split and record if the U test is significant\n",
    "for i in range(400):\n",
    "    movie = movies.iloc[:,[i, 475]]\n",
    "    movie_title = movie.columns[0]\n",
    "    status_title = movie.columns[1]\n",
    "    \n",
    "    only_child = movie[movie[status_title] == 1][movie_title]\n",
    "    only_child_arr = only_child.values[np.isfinite(only_child)]\n",
    "    with_siblings = movie[movie[status_title] == 0][movie_title]\n",
    "    with_siblings_arr = with_siblings.values[np.isfinite(with_siblings)]\n",
    "    \n",
    "    u6, pu6 = stats.mannwhitneyu(only_child_arr, with_siblings_arr, alternative = 'two-sided')\n",
    "    if pu6<0.005:\n",
    "        u_stats6.append(1)\n",
    "    else:\n",
    "        u_stats6.append(0)"
   ]
  },
  {
   "cell_type": "code",
   "execution_count": 131,
   "id": "1dec036a",
   "metadata": {},
   "outputs": [
    {
     "data": {
      "text/plain": [
       "0.0175"
      ]
     },
     "execution_count": 131,
     "metadata": {},
     "output_type": "execute_result"
    }
   ],
   "source": [
    "# calculate proportion of movies showing a differnce\n",
    "np.sum(u_stats6)/len(u_stats6)"
   ]
  },
  {
   "cell_type": "markdown",
   "id": "a4d3dc7a",
   "metadata": {},
   "source": [
    "Only 1.75% movies exhibit an “only child effect”."
   ]
  },
  {
   "cell_type": "markdown",
   "id": "880afe74",
   "metadata": {},
   "source": [
    "#### 7) Do people who like to watch movies socially enjoy ‘The Wolf of Wall Street (2013)’ more than those who prefer to watch them alone?"
   ]
  },
  {
   "cell_type": "code",
   "execution_count": 132,
   "id": "f869f2fd",
   "metadata": {},
   "outputs": [],
   "source": [
    "# Subset the movie and create a alone group and a social group\n",
    "WoWS = movies[['The Wolf of Wall Street (2013)', 'Movies are best enjoyed alone (1: Yes; 0: No; -1: Did not respond)']]\n",
    "alone = WoWS[WoWS['Movies are best enjoyed alone (1: Yes; 0: No; -1: Did not respond)'] == 1]['The Wolf of Wall Street (2013)']\n",
    "socially = WoWS[WoWS['Movies are best enjoyed alone (1: Yes; 0: No; -1: Did not respond)'] == 0]['The Wolf of Wall Street (2013)']"
   ]
  },
  {
   "cell_type": "code",
   "execution_count": 133,
   "id": "284bf7ed",
   "metadata": {},
   "outputs": [
    {
     "data": {
      "text/plain": [
       "3.5"
      ]
     },
     "execution_count": 133,
     "metadata": {},
     "output_type": "execute_result"
    }
   ],
   "source": [
    "# perfer alone half\n",
    "# remove missing values\n",
    "alone_arr = alone.values[np.isfinite(alone)]\n",
    "np.median(alone_arr)"
   ]
  },
  {
   "cell_type": "code",
   "execution_count": 134,
   "id": "b224aae8",
   "metadata": {},
   "outputs": [
    {
     "data": {
      "text/plain": [
       "3.0"
      ]
     },
     "execution_count": 134,
     "metadata": {},
     "output_type": "execute_result"
    }
   ],
   "source": [
    "# perfer socially half\n",
    "# remove missing values\n",
    "socially_arr = socially.values[np.isfinite(socially)]\n",
    "np.median(socially_arr)"
   ]
  },
  {
   "cell_type": "code",
   "execution_count": 135,
   "id": "c837615a",
   "metadata": {},
   "outputs": [
    {
     "name": "stdout",
     "output_type": "stream",
     "text": [
      "56806.5 0.9436657996253056\n"
     ]
    },
    {
     "data": {
      "text/plain": [
       "False"
      ]
     },
     "execution_count": 135,
     "metadata": {},
     "output_type": "execute_result"
    }
   ],
   "source": [
    "# U test\n",
    "u7, pu7 = stats.mannwhitneyu(alone_arr, socially_arr, alternative = 'less')\n",
    "print(u7, pu7)\n",
    "pu7<0.005"
   ]
  },
  {
   "cell_type": "markdown",
   "id": "21a1d073",
   "metadata": {},
   "source": [
    "Since p-value is not less than our alpha, 0.005, we fail to reject the null hypothesis and conclude\n",
    "that people who like to watch movies socially do not enjoy ‘The Wolf of Wall Street (2013)’ more than those who prefer to watch them alone. "
   ]
  },
  {
   "cell_type": "markdown",
   "id": "77273202",
   "metadata": {},
   "source": [
    "#### 8) What proportion of movies exhibit such a “social watching” effect?\n"
   ]
  },
  {
   "cell_type": "code",
   "execution_count": 138,
   "id": "cb4cbda3",
   "metadata": {},
   "outputs": [],
   "source": [
    "# holdder list\n",
    "u_stats8 = []\n",
    "\n",
    "# iterated through all 400 movies\n",
    "# in each iteration, do a whether prefer watching alone split and record if the U test is significant\n",
    "for i in range(400):\n",
    "    movie = movies.iloc[:,[i, 476]]\n",
    "    movie_title = movie.columns[0]\n",
    "    status_title = movie.columns[1]\n",
    "    \n",
    "    alone = movie[movie[status_title] == 1][movie_title]\n",
    "    alone_arr = alone.values[np.isfinite(alone)]\n",
    "    socially = movie[movie[status_title] == 0][movie_title]\n",
    "    socially_arr = socially.values[np.isfinite(socially)]\n",
    "    \n",
    "    u8, pu8 = stats.mannwhitneyu(alone_arr, socially_arr, alternative = 'two-sided')\n",
    "    if pu8<0.005:\n",
    "        u_stats8.append(1)\n",
    "    else:\n",
    "        u_stats8.append(0)"
   ]
  },
  {
   "cell_type": "code",
   "execution_count": 139,
   "id": "4502e6bb",
   "metadata": {},
   "outputs": [
    {
     "data": {
      "text/plain": [
       "0.025"
      ]
     },
     "execution_count": 139,
     "metadata": {},
     "output_type": "execute_result"
    }
   ],
   "source": [
    "# calculate proportion of movies showing a differnce\n",
    "np.sum(u_stats8)/len(u_stats8)"
   ]
  },
  {
   "cell_type": "markdown",
   "id": "a9ef23ba",
   "metadata": {},
   "source": [
    "Only 2.5% movies exhibit a “social watching”."
   ]
  },
  {
   "cell_type": "markdown",
   "id": "4bda9911",
   "metadata": {},
   "source": [
    "#### 9) Is the ratings distribution of ‘Home Alone (1990)’ different than that of ‘Finding Nemo (2003)’? "
   ]
  },
  {
   "cell_type": "code",
   "execution_count": 140,
   "id": "c24be601",
   "metadata": {},
   "outputs": [],
   "source": [
    "# Subset the movie\n",
    "home_alone = movies['Home Alone (1990)']\n",
    "# remove missing values\n",
    "home_alone_arr = home_alone.values[np.isfinite(home_alone)]\n",
    "\n",
    "# Subset the movie\n",
    "finding_nemo = movies['Finding Nemo (2003)']\n",
    "# remove missing values\n",
    "finding_nemo_arr = finding_nemo.values[np.isfinite(finding_nemo)]"
   ]
  },
  {
   "cell_type": "code",
   "execution_count": 141,
   "id": "8d07b2b7",
   "metadata": {},
   "outputs": [
    {
     "name": "stdout",
     "output_type": "stream",
     "text": [
      "0.15269080020897632 6.379397182836346e-10\n"
     ]
    },
    {
     "data": {
      "text/plain": [
       "True"
      ]
     },
     "execution_count": 141,
     "metadata": {},
     "output_type": "execute_result"
    }
   ],
   "source": [
    "# Kolmogorov-Smirnov (KS) test\n",
    "ks, p9 = stats.kstest(home_alone_arr, finding_nemo_arr, alternative = 'two-sided')\n",
    "print(ks, p9)\n",
    "p9<0.005"
   ]
  },
  {
   "cell_type": "markdown",
   "id": "8cfad4e6",
   "metadata": {},
   "source": [
    "Since p-value is less than our alpha, 0.005, we reject the null hypothesis to conclude\n",
    "that the ratings distribution of the two movies are different? "
   ]
  },
  {
   "cell_type": "markdown",
   "id": "7df1cd7b",
   "metadata": {},
   "source": [
    "#### 10) There are ratings on movies from several franchises (‘Star Wars’, ‘Harry Potter’, ‘The Matrix’, ‘Indiana Jones’, ‘Jurassic Park’, ‘Pirates of the Caribbean’, ‘Toy Story’, ‘Batman’) in this dataset. How many of these are of consistent quality, as experienced by viewers? "
   ]
  },
  {
   "cell_type": "code",
   "execution_count": 248,
   "id": "1e1b721b",
   "metadata": {},
   "outputs": [
    {
     "name": "stdout",
     "output_type": "stream",
     "text": [
      "(1097, 6)\n",
      "(1097, 4)\n",
      "(1097, 3)\n",
      "(1097, 4)\n",
      "(1097, 3)\n",
      "(1097, 3)\n",
      "(1097, 3)\n",
      "(1097, 3)\n"
     ]
    }
   ],
   "source": [
    "# find movies under the ‘Star Wars’ franchise\n",
    "sw = movies.loc[:,movies.columns.str.contains('Star Wars')].values\n",
    "print(sw.shape)\n",
    "# find movies under the ‘Harry Potter’ franchise\n",
    "hp = movies.loc[:,movies.columns.str.contains('Harry Potter')].values\n",
    "print(hp.shape)\n",
    "# find movies under the ‘The Matrix’ franchise\n",
    "tm = movies.loc[:,movies.columns.str.contains('The Matrix')].values\n",
    "print(tm.shape)\n",
    "# find movies under the ‘Indiana Jones’ franchise\n",
    "ij = movies.loc[:,movies.columns.str.contains('Indiana Jones')].values\n",
    "print(ij.shape)\n",
    "# find movies under the ‘Jurassic Park’ franchise\n",
    "jp = movies.loc[:,movies.columns.str.contains('Jurassic Park')].values\n",
    "print(jp.shape)\n",
    "# find movies under the ‘Pirates of the Caribbean’ franchise\n",
    "potc = movies.loc[:,movies.columns.str.contains('Pirates of the Caribbean')].values\n",
    "print(potc.shape)\n",
    "# find movies under the ‘Toy Story’ franchise\n",
    "ts = movies.loc[:,movies.columns.str.contains('Toy Story')].values\n",
    "print(ts.shape)\n",
    "# find movies under the ‘Batman’ franchise\n",
    "b = movies.loc[:,movies.columns.str.contains('Batman')].values\n",
    "print(b.shape)"
   ]
  },
  {
   "cell_type": "code",
   "execution_count": 249,
   "id": "11fb9817",
   "metadata": {},
   "outputs": [],
   "source": [
    "# Kruskal Wallis Test pf each franchise\n",
    "h1, p_1 = stats.kruskal(sw.T[0], sw.T[1], sw.T[2], sw.T[3], sw.T[4], sw.T[5], nan_policy='omit')\n",
    "h2, p_2 = stats.kruskal(hp.T[0], hp.T[1], hp.T[2], hp.T[3], nan_policy='omit')\n",
    "h3, p_3 = stats.kruskal(tm.T[0], tm.T[1], tm.T[2], nan_policy='omit')\n",
    "h4, p_4 = stats.kruskal(ij.T[0], ij.T[1], ij.T[2], ij.T[3], nan_policy='omit')\n",
    "h5, p_5 = stats.kruskal(jp.T[0], jp.T[1], jp.T[2], nan_policy='omit')\n",
    "h6, p_6 = stats.kruskal(potc.T[0], potc.T[1], potc.T[2], nan_policy='omit')\n",
    "h7, p_7 = stats.kruskal(ts.T[0], ts.T[1], ts.T[2], nan_policy='omit')\n",
    "h8, p_8 = stats.kruskal(b.T[0], b.T[1], b.T[2], nan_policy='omit')"
   ]
  },
  {
   "cell_type": "code",
   "execution_count": 250,
   "id": "d8d81fe5",
   "metadata": {
    "scrolled": true
   },
   "outputs": [
    {
     "name": "stdout",
     "output_type": "stream",
     "text": [
      "230.5841753686405 8.01647736660335e-48\n",
      "True\n",
      "3.331230732890868 0.34331950837289205\n",
      "False\n",
      "48.378866521305774 3.1236517880781424e-11\n",
      "True\n",
      "45.79416340261569 6.27277563979608e-10\n",
      "True\n",
      "46.59088064385298 7.636930084362221e-11\n",
      "True\n",
      "20.64399756002606 3.2901287079094474e-05\n",
      "True\n",
      "24.38599493626327 5.065805156537524e-06\n",
      "True\n",
      "190.53496872634642 4.2252969509030006e-42\n",
      "True\n"
     ]
    }
   ],
   "source": [
    "print(h1, p_1)\n",
    "print(p_1<0.005)\n",
    "print(h2, p_2)\n",
    "print(p_2<0.005)\n",
    "print(h3, p_3)\n",
    "print(p_3<0.005)\n",
    "print(h4, p_4)\n",
    "print(p_4<0.005)\n",
    "print(h5, p_5)\n",
    "print(p_5<0.005)\n",
    "print(h6, p_6)\n",
    "print(p_6<0.005)\n",
    "print(h7, p_7)\n",
    "print(p_7<0.005)\n",
    "print(h8, p_8)\n",
    "print(p_8<0.005)"
   ]
  },
  {
   "cell_type": "markdown",
   "id": "f094611a",
   "metadata": {},
   "source": [
    "Only the 'Harry Potter' franchise is of consistent quality."
   ]
  },
  {
   "cell_type": "markdown",
   "id": "da2142f6",
   "metadata": {},
   "source": [
    "#### 11) Are movies with longer titles rated higher than movies with shorter titles?"
   ]
  },
  {
   "cell_type": "code",
   "execution_count": 152,
   "id": "6d38cb06",
   "metadata": {},
   "outputs": [
    {
     "name": "stdout",
     "output_type": "stream",
     "text": [
      "(1097, 182)\n",
      "(1097, 218)\n"
     ]
    }
   ],
   "source": [
    "# median-split of title length to determine long title and short title movies\n",
    "title_len = np.vectorize(len)(movies_ratings.columns.str[:-7])\n",
    "median_10 = np.median(title_len)\n",
    "\n",
    "short = movies_ratings.loc[:,title_len < median_10]\n",
    "long = movies_ratings.loc[:,title_len >= median_10]\n",
    "print(short.shape)\n",
    "print(long.shape)"
   ]
  },
  {
   "cell_type": "code",
   "execution_count": 153,
   "id": "d68fd17d",
   "metadata": {},
   "outputs": [
    {
     "data": {
      "text/plain": [
       "3.0"
      ]
     },
     "execution_count": 153,
     "metadata": {},
     "output_type": "execute_result"
    }
   ],
   "source": [
    "# vectorize shorter half\n",
    "short_arr = short.values.flatten()\n",
    "# remove missing values\n",
    "short_arr = short_arr[np.isfinite(short_arr)]\n",
    "np.median(short_arr)"
   ]
  },
  {
   "cell_type": "code",
   "execution_count": 154,
   "id": "fe620ef6",
   "metadata": {
    "scrolled": true
   },
   "outputs": [
    {
     "data": {
      "text/plain": [
       "3.0"
      ]
     },
     "execution_count": 154,
     "metadata": {},
     "output_type": "execute_result"
    }
   ],
   "source": [
    "# vectorize longer half\n",
    "long_arr = long.values.flatten()\n",
    "# remove missing values\n",
    "long_arr = long_arr[np.isfinite(long_arr)]\n",
    "np.median(long_arr)"
   ]
  },
  {
   "cell_type": "code",
   "execution_count": 155,
   "id": "3fb8f507",
   "metadata": {},
   "outputs": [
    {
     "name": "stdout",
     "output_type": "stream",
     "text": [
      "1545200237.0 0.0012739213298039243\n"
     ]
    },
    {
     "data": {
      "text/plain": [
       "True"
      ]
     },
     "execution_count": 155,
     "metadata": {},
     "output_type": "execute_result"
    }
   ],
   "source": [
    "# U test\n",
    "u10, pu10 = stats.mannwhitneyu(short_arr, long_arr, alternative = 'less')\n",
    "print(u10, pu10)\n",
    "pu10<0.005"
   ]
  },
  {
   "cell_type": "markdown",
   "id": "b24f2644",
   "metadata": {},
   "source": [
    "1545200237.0 0.0025478426596078486\n",
    "True"
   ]
  },
  {
   "cell_type": "markdown",
   "id": "1120bd2b",
   "metadata": {},
   "source": [
    "Since p-value is less than our alpha, 0.005, we reject the null hypothesis to conclude\n",
    "that movies that have longer titles rated higher than movies that have shorter\n",
    "titles."
   ]
  },
  {
   "cell_type": "code",
   "execution_count": null,
   "id": "3f0541f6",
   "metadata": {},
   "outputs": [],
   "source": []
  }
 ],
 "metadata": {
  "kernelspec": {
   "display_name": "Python 3 (ipykernel)",
   "language": "python",
   "name": "python3"
  },
  "language_info": {
   "codemirror_mode": {
    "name": "ipython",
    "version": 3
   },
   "file_extension": ".py",
   "mimetype": "text/x-python",
   "name": "python",
   "nbconvert_exporter": "python",
   "pygments_lexer": "ipython3",
   "version": "3.9.12"
  }
 },
 "nbformat": 4,
 "nbformat_minor": 5
}
